{
 "cells": [
  {
   "cell_type": "code",
   "execution_count": 1,
   "metadata": {},
   "outputs": [],
   "source": [
    "import numpy as np\n",
    "import random\n",
    "import matplotlib.pyplot as plt"
   ]
  },
  {
   "cell_type": "markdown",
   "metadata": {},
   "source": [
    "### Board Creation"
   ]
  },
  {
   "cell_type": "code",
   "execution_count": 2,
   "metadata": {},
   "outputs": [],
   "source": [
    "# Each type of ship and their size\n",
    "ships = {\n",
    "    \"Carrier\" : 5,\n",
    "    \"Battleship\" : 4,\n",
    "    \"Cruiser\" : 3,\n",
    "    \"Submarine\" : 3,\n",
    "    \"Destroyer\" : 2\n",
    "}\n",
    "\n",
    "total_size = 17\n",
    "nS = 100\n",
    "nA = 100"
   ]
  },
  {
   "cell_type": "code",
   "execution_count": 3,
   "metadata": {},
   "outputs": [],
   "source": [
    "# Randomly places ships on a board\n",
    "def random_place_ships():\n",
    "    your_ships = np.zeros((10, 10))\n",
    "    for ship in ships:\n",
    "        ship_size = ships[ship]\n",
    "        right_placements = []\n",
    "        down_placements = []\n",
    "        for x in range(10):\n",
    "            for y in range(10):\n",
    "                end_d = x + ship_size\n",
    "                end_r = y + ship_size\n",
    "                if end_d <= 10 and 2 not in your_ships[:,y][x:end_d]:\n",
    "                    down_placements.append((x, y))\n",
    "                if end_r <= 10 and 2 not in your_ships[x][y:end_r]:\n",
    "                    right_placements.append((x, y))\n",
    "        if (len(down_placements) > 0 and len(right_placements) > 0):\n",
    "            d_or_r = random.randint(0, 1)\n",
    "            if (d_or_r == 1):\n",
    "                x, y = down_placements[random.randint(0, len(down_placements)- 1)]\n",
    "                end = x + ship_size\n",
    "                your_ships[:,y][x:end] = 2\n",
    "            else:\n",
    "                x, y = right_placements[random.randint(0, len(right_placements)- 1)]\n",
    "                end = y + ship_size\n",
    "                your_ships[x][y:end] = 2\n",
    "                \n",
    "    return your_ships"
   ]
  },
  {
   "cell_type": "markdown",
   "metadata": {},
   "source": [
    "### Q-learning"
   ]
  },
  {
   "cell_type": "code",
   "execution_count": null,
   "metadata": {},
   "outputs": [],
   "source": [
    "# Gets the available shots  \n",
    "def get_available_shots(ships):\n",
    "    shots = []\n",
    "    for i in range(100):\n",
    "        x, y = reverse_map(i)\n",
    "        if (ships[x][y] != 1):\n",
    "            shots.append(i)\n",
    "    return shots"
   ]
  },
  {
   "cell_type": "code",
   "execution_count": null,
   "metadata": {},
   "outputs": [],
   "source": [
    "# Fires a shot using Q-learning\n",
    "def fire_shot_q(state, epsilon, Q, ships):\n",
    "    legal_shots = get_available_shots(ships)\n",
    "    chance = np.random.rand()\n",
    "    if chance < epsilon:\n",
    "        return np.random.choice(legal_shots)\n",
    "    max_action = legal_shots[0]\n",
    "    for a in legal_shots:\n",
    "        if Q[state][a] > Q[state][max_action]:\n",
    "            max_action = a\n",
    "    return max_action"
   ]
  },
  {
   "cell_type": "code",
   "execution_count": null,
   "metadata": {},
   "outputs": [],
   "source": [
    "# Returns if a battleship game is over\n",
    "def over(your_ships, opponent_ships):\n",
    "    return 2 not in your_ships or 2 not in opponent_ships"
   ]
  },
  {
   "cell_type": "code",
   "execution_count": null,
   "metadata": {},
   "outputs": [],
   "source": [
    "# Reverses a state to a coordinate\n",
    "def reverse_map(observation):\n",
    "    return observation//10, observation%10"
   ]
  },
  {
   "cell_type": "code",
   "execution_count": null,
   "metadata": {},
   "outputs": [],
   "source": [
    "# Determiens if a shot hit a ship\n",
    "# Updates the Reward and ship\n",
    "def shot_hit(a, s, ships, R):\n",
    "    x, y = reverse_map(a)\n",
    "    tile = ships[x][y]\n",
    "    ships[x][y] = 1\n",
    "    if (tile == 2):\n",
    "        R[a][s][a] += 50\n",
    "        return True\n",
    "    return False\n",
    "\n",
    "def q_learning(a, s, ships, R, U, Q):\n",
    "    shot_hit(a, s, ships, R)\n",
    "    learning_rate = 1 / (1 + U[s, a])\n",
    "    Q[s][a] = Q[s][a] + learning_rate * (R[a][s][a] + gamma * np.max(Q[a]) - Q[s][a])\n",
    "    U[s][a] += 1\n"
   ]
  },
  {
   "cell_type": "code",
   "execution_count": null,
   "metadata": {},
   "outputs": [],
   "source": [
    "# Creates a deep copy of a board of ships\n",
    "def copy_placements(ships):\n",
    "    copy_ships = np.zeros((10, 10))\n",
    "    for x in range(10):\n",
    "        for y in range(10):\n",
    "            copy_ships[x][y] = ships[x][y]\n",
    "    return copy_ships"
   ]
  },
  {
   "cell_type": "code",
   "execution_count": null,
   "metadata": {},
   "outputs": [],
   "source": [
    "# Runs a round Q-learning training\n",
    "def run_round_q(s, Q, R, U, e, ships):\n",
    "    a = fire_shot_q(s, e, Q, ships)\n",
    "    q_learning(a, s, ships, R, U, Q)\n",
    "    return a"
   ]
  },
  {
   "cell_type": "code",
   "execution_count": null,
   "metadata": {},
   "outputs": [],
   "source": [
    "# Averages the results of training based on a given interval\n",
    "def average_results(results, step):\n",
    "    average_results = []\n",
    "    for i in range(len(results)):\n",
    "        if i % step == 0 and i > 0:\n",
    "            average_results.append(np.mean(results[i - step:i]))\n",
    "    return average_results"
   ]
  },
  {
   "cell_type": "code",
   "execution_count": null,
   "metadata": {},
   "outputs": [],
   "source": [
    "# Defines control ships\n",
    "ships1 = random_place_ships()\n",
    "ships2 = random_place_ships()"
   ]
  },
  {
   "cell_type": "markdown",
   "metadata": {},
   "source": [
    "#### Running Q-learning (Controlled Simulation)"
   ]
  },
  {
   "cell_type": "code",
   "execution_count": null,
   "metadata": {},
   "outputs": [],
   "source": [
    "accuracy = []\n",
    "e = 0.9\n",
    "gamma = 0.9\n",
    "Q1 = np.zeros((nS, nA))\n",
    "R1 = np.zeros((nS, nS, nA))\n",
    "U1 = np.zeros((nS, nA))\n",
    "\n",
    "Q2 = np.zeros((nS, nA))\n",
    "R2 = np.zeros((nS, nS, nA))\n",
    "U2 = np.zeros((nS, nA))\n",
    "\n",
    "# Training control ships with Q Learning\n",
    "for i in range(10000):\n",
    "    s1 = random.randint(0, 99)\n",
    "    s2 = random.randint(0, 99)\n",
    "    num_rounds = 0\n",
    "    your_ships = copy_placements(ships1)\n",
    "    opponent_ships = copy_placements(ships2)\n",
    "    while(not over(your_ships, opponent_ships)):\n",
    "        s1 = run_round_q(s1, Q1, R1, U1, e, your_ships)\n",
    "        s2 = run_round_q(s2, Q2, R2, U2, e, opponent_ships)\n",
    "        e *= 0.99999\n",
    "        num_rounds += 1\n",
    "    accuracy.append(total_size / num_rounds)"
   ]
  },
  {
   "cell_type": "markdown",
   "metadata": {},
   "source": [
    "#### Measuring Preformance of Q-learning (Controlled Simulation)"
   ]
  },
  {
   "cell_type": "code",
   "execution_count": null,
   "metadata": {},
   "outputs": [],
   "source": [
    "average_accuracy = average_results(accuracy, 10)\n",
    "\n",
    "# Plotting average accuracy\n",
    "plt.plot(average_accuracy)\n",
    "plt.title(\"Average Accuracy every 10 episodes\")\n",
    "plt.ylabel(\"Accuracy\")\n",
    "plt.xlabel(\"10th Episode\")"
   ]
  },
  {
   "cell_type": "code",
   "execution_count": null,
   "metadata": {},
   "outputs": [],
   "source": [
    "# Plotting distribution of accuracy\n",
    "plt.hist(accuracy, bins=25)\n",
    "plt.xlabel(\"Accuracy\")\n",
    "plt.ylabel(\"Frequency\")\n",
    "plt.title(\"Accuracy Distribution\")"
   ]
  },
  {
   "cell_type": "code",
   "execution_count": null,
   "metadata": {},
   "outputs": [],
   "source": [
    "print(\"Highest Accuracy: \", np.max(accuracy))\n",
    "print(\"Average Accuracy: \", np.mean(accuracy))"
   ]
  },
  {
   "cell_type": "markdown",
   "metadata": {},
   "source": [
    "#### Running Q-learning (Random Simulation)"
   ]
  },
  {
   "cell_type": "code",
   "execution_count": null,
   "metadata": {},
   "outputs": [],
   "source": [
    "accuracy = []\n",
    "e = 0.9\n",
    "gamma = 0.9\n",
    "Q = np.zeros((nS, nA))\n",
    "R1 = np.zeros((nS, nS, nA))\n",
    "U1 = np.zeros((nS, nA))\n",
    "\n",
    "Q = np.zeros((nS, nA))\n",
    "R = np.zeros((nS, nS, nA))\n",
    "U= np.zeros((nS, nA))\n",
    "\n",
    "# Trains Q Learning with random ships\n",
    "for i in range(50000):\n",
    "    s1 = random.randint(0, 99)\n",
    "    s2 = random.randint(0, 99)\n",
    "    num_rounds = 0\n",
    "    your_ships = random_place_ships()\n",
    "    opponent_ships = random_place_ships()\n",
    "    while(not over(your_ships, opponent_ships)):\n",
    "        s1 = run_round_q(s1, Q1, R1, U1, e, your_ships)\n",
    "        s2 = run_round_q(s2, Q2, R2, U2, e, opponent_ships)\n",
    "        e *= 0.99999\n",
    "        num_rounds += 1\n",
    "    accuracy.append(total_size / num_rounds)"
   ]
  },
  {
   "cell_type": "markdown",
   "metadata": {},
   "source": [
    "#### Measuring Preformance of Q-learning (Random Simulation)"
   ]
  },
  {
   "cell_type": "code",
   "execution_count": null,
   "metadata": {},
   "outputs": [],
   "source": [
    "average_accuracy = average_results(accuracy, 50)\n",
    "\n",
    "# Plotting average accuracy\n",
    "plt.plot(average_accuracy)\n",
    "plt.title(\"Average Accuracy every 50 episodes\")\n",
    "plt.ylabel(\"Accuracy\")\n",
    "plt.xlabel(\"50th Episode\")\n",
    "plt.title(\"Accuracy Distribution\")"
   ]
  },
  {
   "cell_type": "code",
   "execution_count": null,
   "metadata": {},
   "outputs": [],
   "source": [
    "# Plotting accuracy distribution\n",
    "plt.hist(accuracy, bins=25)\n",
    "plt.xlabel(\"Accuracy\")\n",
    "plt.ylabel(\"Frequency\")\n",
    "plt.title(\"Accuracy Distribution\")"
   ]
  },
  {
   "cell_type": "code",
   "execution_count": null,
   "metadata": {},
   "outputs": [],
   "source": [
    "print(\"Highest Accuracy: \", np.max(accuracy))\n",
    "print(\"Average Accuracy: \", np.mean(accuracy))"
   ]
  },
  {
   "cell_type": "markdown",
   "metadata": {},
   "source": [
    "### SARSA"
   ]
  },
  {
   "cell_type": "code",
   "execution_count": null,
   "metadata": {},
   "outputs": [],
   "source": [
    "# Returns if the AI has located a ship\n",
    "def found_ship(prev_hits):\n",
    "    n = len(prev_hits)\n",
    "    if n > 1:\n",
    "        shot_difference = abs(prev_hits[n - 1] - prev_hits[n - 2])\n",
    "        return shot_difference == 1 or shot_difference == 10\n",
    "    return False\n",
    "\n",
    "# Shoots at a found ships\n",
    "def hit_ships(state, prev_hits, legal_shots):\n",
    "    n = len(prev_hits)\n",
    "    was_hit = False\n",
    "    if (n > 0):\n",
    "        was_hit = prev_hits[n- 1] == state\n",
    "    if (was_hit):\n",
    "        if (found_ship(prev_hits) and state + (prev_hits[n - 1] - prev_hits[n - 2]) in legal_shots):\n",
    "            return state + (prev_hits[n - 1] - prev_hits[n - 2]) \n",
    "    return None\n",
    "\n",
    "# Fires a shot using SARSA\n",
    "def fire_shot_sarsa(state, e, Q, ships, prev_hits):\n",
    "    legal_shots = get_available_shots(ships)\n",
    "    if (len(legal_shots) == 0):\n",
    "        return None\n",
    "    ship_hit = hit_ships(state, prev_hits, legal_shots)\n",
    "    if (ship_hit):\n",
    "        return ship_hit\n",
    "    return fire_shot_q(state, e, Q, ships)"
   ]
  },
  {
   "cell_type": "code",
   "execution_count": null,
   "metadata": {},
   "outputs": [],
   "source": [
    "# Updates SARSA model\n",
    "def sarsa(s, a, a_next, ships, R, U, Q):\n",
    "    learning_rate = 1 / (1 + U[s, a])\n",
    "    Q[s][a] = Q[s][a] + learning_rate * (R[a][s][a] + gamma * Q[a][a_next] - Q[s][a])\n",
    "    U[s][a] += 1"
   ]
  },
  {
   "cell_type": "code",
   "execution_count": null,
   "metadata": {},
   "outputs": [],
   "source": [
    "# Runs a round of SARSA training\n",
    "def run_round_sarsa(s, e, a, ships, Q, R, U, prev_hits):\n",
    "    hit = 0\n",
    "    if (shot_hit(a, s, ships, R)):\n",
    "        hit = 1\n",
    "        prev_hits.append(a)\n",
    "    a_next = fire_shot_sarsa(a, e, Q, ships, prev_hits)\n",
    "    if (a_next == None):\n",
    "        return None\n",
    "    sarsa(s, a, a_next, ships, R, U, Q)\n",
    "    return a_next"
   ]
  },
  {
   "cell_type": "markdown",
   "metadata": {},
   "source": [
    "#### Running SARSA (Controlled Simulation)"
   ]
  },
  {
   "cell_type": "code",
   "execution_count": null,
   "metadata": {},
   "outputs": [],
   "source": [
    "accuracy = []\n",
    "gamma = 0.9\n",
    "e = 0.9\n",
    "Q1 = np.zeros((nS, nA))\n",
    "R1 = np.zeros((nS, nS, nA))\n",
    "U1 = np.zeros((nS, nA))\n",
    "\n",
    "Q2 = np.zeros((nS, nA))\n",
    "R2 = np.zeros((nS, nS, nA))\n",
    "U2 = np.zeros((nS, nA))\n",
    "\n",
    "# Trains control ships with SARSA\n",
    "for i in range(10000):\n",
    "    your_ships = copy_placements(ships1)\n",
    "    opponent_ships = copy_placements(ships2)\n",
    "    s1 = random.randint(0, 99)\n",
    "    s2 = random.randint(0, 99)\n",
    "    prev_hits1 = []\n",
    "    prev_hits2 = []\n",
    "    a1 = fire_shot_sarsa(s1, e, Q1, your_ships, prev_hits1)\n",
    "    a2 = fire_shot_sarsa(s2, e, Q2, opponent_ships, prev_hits2)\n",
    "    num_rounds = 0\n",
    "    while(not over(your_ships, opponent_ships)):\n",
    "        a1_next = run_round_sarsa(s1, e, a1, your_ships, Q1, R1, U1, prev_hits1)\n",
    "        if (a1_next == None):\n",
    "            break\n",
    "        s1 = a1\n",
    "        a1 = a1_next\n",
    "        a2_next = run_round_sarsa(s2, e, a2, opponent_ships, Q2, R2, U2, prev_hits2)\n",
    "        if (a2_next == None):\n",
    "            break\n",
    "        s2 = a2\n",
    "        a2_next = a2\n",
    "        num_rounds += 1\n",
    "        e *= 0.99999\n",
    "    accuracy.append(total_size / num_rounds)"
   ]
  },
  {
   "cell_type": "markdown",
   "metadata": {},
   "source": [
    "#### Measuring Preformance SARSA (Controlled Simulation)"
   ]
  },
  {
   "cell_type": "code",
   "execution_count": null,
   "metadata": {},
   "outputs": [],
   "source": [
    "average_accuracy = average_results(accuracy, 10)\n",
    "\n",
    "# Plotting average accuracy\n",
    "plt.plot(average_accuracy)\n",
    "plt.title(\"Average Accuracy every 10 episodes\")\n",
    "plt.ylabel(\"Accuracy\")\n",
    "plt.xlabel(\"10th Episode\")"
   ]
  },
  {
   "cell_type": "code",
   "execution_count": null,
   "metadata": {},
   "outputs": [],
   "source": [
    "# Plotting accuracy distribution\n",
    "plt.hist(accuracy, bins=25)\n",
    "plt.xlabel(\"Accuracy\")\n",
    "plt.ylabel(\"Frequency\")\n",
    "plt.title(\"Accuracy Distribution\")"
   ]
  },
  {
   "cell_type": "code",
   "execution_count": null,
   "metadata": {},
   "outputs": [],
   "source": [
    "print(\"Highest Accuracy: \", np.max(accuracy))\n",
    "print(\"Average Accuracy: \", np.mean(accuracy))"
   ]
  },
  {
   "cell_type": "markdown",
   "metadata": {},
   "source": [
    "#### Running SARSA (Random Simulation)"
   ]
  },
  {
   "cell_type": "code",
   "execution_count": null,
   "metadata": {},
   "outputs": [],
   "source": [
    "accuracy = []\n",
    "gamma = 0.9\n",
    "e = 0.9\n",
    "Q1 = np.zeros((nS, nA))\n",
    "R1 = np.zeros((nS, nS, nA))\n",
    "U1 = np.zeros((nS, nA))\n",
    "\n",
    "Q2 = np.zeros((nS, nA))\n",
    "R2 = np.zeros((nS, nS, nA))\n",
    "U2 = np.zeros((nS, nA))\n",
    "\n",
    "# Trains random ships with SARSA\n",
    "for i in range(50000):\n",
    "    your_ships = random_place_ships()\n",
    "    opponent_ships = random_place_ships()\n",
    "    s1 = random.randint(0, 99)\n",
    "    s2 = random.randint(0, 99)\n",
    "    prev_hits1 = []\n",
    "    prev_hits2 = []\n",
    "    a1 = fire_shot_sarsa(s1, e, Q1, your_ships, prev_hits1)\n",
    "    a2 = fire_shot_sarsa(s2, e, Q2, opponent_ships, prev_hits2)\n",
    "    num_rounds = 0\n",
    "    while(not over(your_ships, opponent_ships)):\n",
    "        a1_next = run_round_sarsa(s1, e, a1, your_ships, Q1, R1, U1, prev_hits1)\n",
    "        if (a1_next == None):\n",
    "            break\n",
    "        s1 = a1\n",
    "        a1 = a1_next\n",
    "        a2_next = run_round_sarsa(s2, e, a2, opponent_ships, Q2, R2, U2, prev_hits2)\n",
    "        if (a2_next == None):\n",
    "            break\n",
    "        s2 = a2\n",
    "        a2_next = a2\n",
    "        num_rounds += 1\n",
    "        e *= 0.99999\n",
    "    accuracy.append(total_size / num_rounds)"
   ]
  },
  {
   "cell_type": "markdown",
   "metadata": {},
   "source": [
    "#### Measuring Preformance SARSA (Random Simulation)"
   ]
  },
  {
   "cell_type": "code",
   "execution_count": null,
   "metadata": {},
   "outputs": [],
   "source": [
    "average_accuracy = average_results(accuracy, 50)\n",
    "\n",
    "# Plotting average accuracy\n",
    "plt.plot(average_accuracy)\n",
    "plt.title(\"Average Accuracy every 50 episodes\")\n",
    "plt.ylabel(\"Accuracy\")\n",
    "plt.xlabel(\"50th Episode\")\n"
   ]
  },
  {
   "cell_type": "code",
   "execution_count": null,
   "metadata": {},
   "outputs": [],
   "source": [
    "# Plotting accuracy distribution\n",
    "plt.hist(accuracy, bins=25)\n",
    "plt.xlabel(\"Accuracy\")\n",
    "plt.ylabel(\"Frequency\")\n",
    "plt.title(\"Accuracy Distribution\")"
   ]
  },
  {
   "cell_type": "code",
   "execution_count": null,
   "metadata": {},
   "outputs": [],
   "source": [
    "print(\"Highest Accuracy: \", np.max(accuracy))\n",
    "print(\"Average Accuracy: \", np.mean(accuracy))"
   ]
  }
 ],
 "metadata": {
  "kernelspec": {
   "display_name": "Python 3",
   "language": "python",
   "name": "python3"
  },
  "language_info": {
   "codemirror_mode": {
    "name": "ipython",
    "version": 3
   },
   "file_extension": ".py",
   "mimetype": "text/x-python",
   "name": "python",
   "nbconvert_exporter": "python",
   "pygments_lexer": "ipython3",
   "version": "3.11.9"
  }
 },
 "nbformat": 4,
 "nbformat_minor": 2
}
