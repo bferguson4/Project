{
 "cells": [
  {
   "cell_type": "code",
   "execution_count": 1,
   "metadata": {},
   "outputs": [],
   "source": [
    "import numpy as np\n",
    "import random\n",
    "import matplotlib.pyplot as plt"
   ]
  },
  {
   "cell_type": "markdown",
   "metadata": {},
   "source": [
    "## BattleShip \n",
    "\n",
    "### Information\n",
    "\n",
    "#### Dimensions: 10x10\n",
    "\n",
    "#### Ships:\n",
    "\n",
    "#### - Carrier: 5 pegs\n",
    "#### - Battleship: 4 pegs\n",
    "#### - Cruiser: 3 pegs\n",
    "#### - Subamarine: 3 pegs\n",
    "#### - Destroyer: 2 pegs"
   ]
  },
  {
   "cell_type": "code",
   "execution_count": 2,
   "metadata": {},
   "outputs": [],
   "source": [
    "ships = {\n",
    "    \"Carrier\" : 5,\n",
    "    \"Battleship\" : 4,\n",
    "    \"Cruiser\" : 3,\n",
    "    \"Submarine\" : 3,\n",
    "    \"Destroyer\" : 2\n",
    "}"
   ]
  },
  {
   "cell_type": "code",
   "execution_count": 3,
   "metadata": {},
   "outputs": [],
   "source": [
    "ship_symbols = {\n",
    "    \"Carrier\" : 'C',\n",
    "    \"Battleship\" : 'B',\n",
    "    \"Cruiser\" : 'CR',\n",
    "    \"Submarine\" : 'S',\n",
    "    \"Destroyer\" : 'D'\n",
    "}"
   ]
  },
  {
   "cell_type": "code",
   "execution_count": 4,
   "metadata": {},
   "outputs": [],
   "source": [
    "def get_coord(input_msg):\n",
    "    ship_coord = tuple(input(input_msg))\n",
    "    x = ship_coord[0]\n",
    "    x = int(x)\n",
    "    y = ship_coord[1]\n",
    "    y = int(y)\n",
    "    return (x, y)"
   ]
  },
  {
   "cell_type": "code",
   "execution_count": 5,
   "metadata": {},
   "outputs": [],
   "source": [
    "def random_place_ships():\n",
    "    your_ships = np.zeros((10, 10))\n",
    "    for ship in ships:\n",
    "        ship_size = ships[ship]\n",
    "        right_placements = []\n",
    "        down_placements = []\n",
    "        for x in range(10):\n",
    "            for y in range(10):\n",
    "                end_d = x + ship_size\n",
    "                end_r = y + ship_size\n",
    "                if end_d <= 10 and 2 not in your_ships[:,y][x:end_d]:\n",
    "                    down_placements.append((x, y))\n",
    "                if end_r <= 10 and 2 not in your_ships[x][y:end_r]:\n",
    "                    right_placements.append((x, y))\n",
    "        if (len(down_placements) > 0 and len(right_placements) > 0):\n",
    "            d_or_r = random.randint(0, 1)\n",
    "            if (d_or_r == 1):\n",
    "                x, y = down_placements[random.randint(0, len(down_placements)- 1)]\n",
    "                end = x + ship_size\n",
    "                your_ships[:,y][x:end] = 2\n",
    "            else:\n",
    "                x, y = right_placements[random.randint(0, len(right_placements)- 1)]\n",
    "                end = y + ship_size\n",
    "                your_ships[x][y:end] = 2\n",
    "                \n",
    "    return your_ships"
   ]
  },
  {
   "cell_type": "code",
   "execution_count": 6,
   "metadata": {},
   "outputs": [],
   "source": [
    "def fire_shot(opponent_ships):\n",
    "    x, y = get_coord(\"Take shot\")\n",
    "    if (opponent_ships[x][y] == 2):\n",
    "        print(\"HIT\")\n",
    "        opponent_ships[x][y] = 1\n",
    "        return True\n",
    "    return False"
   ]
  },
  {
   "cell_type": "code",
   "execution_count": 7,
   "metadata": {},
   "outputs": [],
   "source": [
    "def get_available_shots(ships):\n",
    "    shots = []\n",
    "    for i in range(100):\n",
    "        x, y = reverse_map(i)\n",
    "        if (ships[x][y] != 1):\n",
    "            shots.append(i)\n",
    "    return shots"
   ]
  },
  {
   "cell_type": "code",
   "execution_count": 8,
   "metadata": {},
   "outputs": [],
   "source": [
    "def fire_shot_ai(state, epsilon, Q, ships):\n",
    "    chance = np.random.rand()\n",
    "    legal_shots = get_available_shots(ships)\n",
    "    if chance < epsilon:\n",
    "        return np.random.choice(legal_shots)\n",
    "    max_action = legal_shots[0]\n",
    "    for a in legal_shots:\n",
    "        if Q[state][a] > Q[state][max_action]:\n",
    "            max_action = a\n",
    "    return max_action"
   ]
  },
  {
   "cell_type": "code",
   "execution_count": 9,
   "metadata": {},
   "outputs": [],
   "source": [
    "def over(your_ships, opponent_ships):\n",
    "    return 2 not in your_ships or 2 not in opponent_ships"
   ]
  },
  {
   "cell_type": "code",
   "execution_count": 10,
   "metadata": {},
   "outputs": [],
   "source": [
    "def reverse_map(observation):\n",
    "    return observation//10, observation%10"
   ]
  },
  {
   "cell_type": "code",
   "execution_count": 76,
   "metadata": {},
   "outputs": [],
   "source": [
    "def q_learning(a, s, e, ships, R, U, Q):\n",
    "    hit = 0\n",
    "    x, y = reverse_map(a)\n",
    "    if (ships[x][y] == 2):\n",
    "        R[s][a] += 50\n",
    "        hit = 1\n",
    "    ships[x][y] = 1\n",
    "    learning_rate = 1 / (1 + U[s, a])\n",
    "    Q[s][a] = Q[s][a] + learning_rate * (R[s][a] + gamma * np.max(Q[a]) - Q[s][a])\n",
    "    U[s][a] += 1\n",
    "    return hit"
   ]
  },
  {
   "cell_type": "code",
   "execution_count": 12,
   "metadata": {},
   "outputs": [],
   "source": [
    "def copy_placements(ships):\n",
    "    copy_ships = np.zeros((10, 10))\n",
    "    for x in range(10):\n",
    "        for y in range(10):\n",
    "            copy_ships[x][y] = ships[x][y]\n",
    "    return copy_ships"
   ]
  },
  {
   "cell_type": "code",
   "execution_count": 94,
   "metadata": {},
   "outputs": [],
   "source": [
    "e = 0.9\n",
    "gamma = 0.9\n",
    "Q1 = np.zeros((100, 100))\n",
    "R1 = np.zeros((100, 100))\n",
    "U1 = np.zeros((100, 100))\n",
    "\n",
    "Q2 = np.zeros((100, 100))\n",
    "R2 = np.zeros((100, 100))\n",
    "U2 = np.zeros((100, 100))"
   ]
  },
  {
   "cell_type": "code",
   "execution_count": 17,
   "metadata": {},
   "outputs": [],
   "source": [
    "ships1 = random_place_ships()\n",
    "ships2 = random_place_ships()"
   ]
  },
  {
   "cell_type": "code",
   "execution_count": 95,
   "metadata": {},
   "outputs": [],
   "source": [
    "rounds = []\n",
    "for i in range(5000):\n",
    "    s1 = random.randint(0, 99)\n",
    "    s2 = random.randint(0, 99)\n",
    "    hits1 = 0\n",
    "    hits2 = 0\n",
    "    num_rounds = 0\n",
    "    your_ships = copy_placements(ships1)\n",
    "    opponent_ships = copy_placements(ships2)\n",
    "    while(not over(your_ships, opponent_ships)):\n",
    "        a1 = fire_shot_ai(s1, e, Q1, your_ships)\n",
    "        hits1 += q_learning(a1, s1, e, your_ships, R1, U1, Q1)\n",
    "        s1 = a1\n",
    "        a2 = fire_shot_ai(s2, e, Q2, opponent_ships)\n",
    "        hits2 += q_learning(a2, s2, e, opponent_ships, R2, U2, Q2)\n",
    "        s2 = a2\n",
    "        e *= 0.9999\n",
    "        num_rounds += 1\n",
    "    rounds.append(num_rounds)"
   ]
  },
  {
   "cell_type": "code",
   "execution_count": 84,
   "metadata": {},
   "outputs": [],
   "source": [
    "e = 0.9\n",
    "gamma = 0.9\n",
    "Q = np.zeros((100, 100))\n",
    "R = np.zeros((100, 100))\n",
    "U = np.zeros((100, 100))"
   ]
  },
  {
   "cell_type": "code",
   "execution_count": 89,
   "metadata": {},
   "outputs": [],
   "source": [
    "rounds = []\n",
    "for i in range(500000):\n",
    "    s1 = random.randint(0, 99)\n",
    "    s2 = random.randint(0, 99)\n",
    "    hits1 = 0\n",
    "    hits2 = 0\n",
    "    num_rounds = 0\n",
    "    your_ships = random_place_ships()\n",
    "    opponent_ships = random_place_ships()\n",
    "    while(not over(your_ships, opponent_ships)):\n",
    "        a1 = fire_shot_ai(s1, e, Q, your_ships)\n",
    "        hits1 += q_learning(a1, s1, e, your_ships, R, U, Q)\n",
    "        s1 = a1\n",
    "        a2 = fire_shot_ai(s2, e, Q, opponent_ships)\n",
    "        hits2 += q_learning(a2, s2, e, opponent_ships, R, U, Q)\n",
    "        s2 = a2\n",
    "        e *= 0.999\n",
    "        num_rounds += 1\n",
    "    rounds.append(num_rounds)"
   ]
  },
  {
   "cell_type": "code",
   "execution_count": 99,
   "metadata": {},
   "outputs": [
    {
     "data": {
      "text/plain": [
       "Text(0.5, 1.0, 'Average Rounds')"
      ]
     },
     "execution_count": 99,
     "metadata": {},
     "output_type": "execute_result"
    },
    {
     "data": {
      "image/png": "[encoded data removed]",
      "text/plain": [
       "<Figure size 640x480 with 1 Axes>"
      ]
     },
     "metadata": {},
     "output_type": "display_data"
    }
   ],
   "source": [
    "def average_results(results, step):\n",
    "    average_results = []\n",
    "    for i in range(len(results)):\n",
    "        if i % step == 0 and i > 0:\n",
    "            average_results.append(np.mean(results[i - step:i]))\n",
    "    return average_results\n",
    "\n",
    "average_rounds = average_results(rounds, 5)\n",
    "\n",
    "plt.plot(average_rounds)\n",
    "plt.title(\"Average Rounds\")"
   ]
  }
 ],
 "metadata": {
  "kernelspec": {
   "display_name": "Python 3",
   "language": "python",
   "name": "python3"
  },
  "language_info": {
   "codemirror_mode": {
    "name": "ipython",
    "version": 3
   },
   "file_extension": ".py",
   "mimetype": "text/x-python",
   "name": "python",
   "nbconvert_exporter": "python",
   "pygments_lexer": "ipython3",
   "version": "3.11.9"
  }
 },
 "nbformat": 4,
 "nbformat_minor": 2
}
